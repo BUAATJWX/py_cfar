{
 "cells": [
  {
   "cell_type": "code",
   "execution_count": 61,
   "metadata": {},
   "outputs": [],
   "source": [
    "import json\n",
    "from scipy.io import loadmat\n",
    "import numpy as np\n",
    "import matplotlib.pyplot as plt"
   ]
  },
  {
   "cell_type": "code",
   "execution_count": 40,
   "metadata": {},
   "outputs": [],
   "source": [
    "path = '/media/nasir/Drive1/datasets/SAR/sar-ship-dataset-master/json/ship_positives.json'\n",
    "# path = '/media/nasir/Drive1/datasets/SAR/sar-ship-dataset-master/matlab/sar_ship_dataset.mat'\n",
    "\n",
    "with open(path) as json_file:  \n",
    "    data = json.load(json_file)"
   ]
  },
  {
   "cell_type": "code",
   "execution_count": 50,
   "metadata": {},
   "outputs": [],
   "source": [
    "record = data[0][0]"
   ]
  },
  {
   "cell_type": "code",
   "execution_count": 52,
   "metadata": {},
   "outputs": [
    {
     "data": {
      "text/plain": [
       "dict_keys(['id', 'sensor', 'resolution', 'fullname', 'polarisation', 'incidenceangle', 'row', 'column', 'longitude', 'latitude', 'stats', 'R', 'nearest', 'pixelsize', 'patchfu', 'patchgt', 'windowfu', 'windowgt', 'validais', 'ais', 'aux'])"
      ]
     },
     "execution_count": 52,
     "metadata": {},
     "output_type": "execute_result"
    }
   ],
   "source": [
    "record.keys()"
   ]
  },
  {
   "cell_type": "code",
   "execution_count": 66,
   "metadata": {},
   "outputs": [],
   "source": [
    "s = record['stats']"
   ]
  },
  {
   "cell_type": "code",
   "execution_count": 67,
   "metadata": {},
   "outputs": [
    {
     "data": {
      "text/plain": [
       "{'Area': 24,\n",
       " 'Centroid': [50.04166667, 50.58333333],\n",
       " 'BoundingBox': [44.5, 46.5, 11, 8],\n",
       " 'SubarrayIdx': [[47, 48, 49, 50, 51, 52, 53, 54],\n",
       "  [45, 46, 47, 48, 49, 50, 51, 52, 53, 54, 55]],\n",
       " 'MajorAxisLength': 14.87897632,\n",
       " 'MinorAxisLength': 3.132173055,\n",
       " 'Eccentricity': 0.9775917077,\n",
       " 'Orientation': 37.03298513,\n",
       " 'ConvexHull': [[45, 52.5],\n",
       "  [44.5, 53],\n",
       "  [45, 53.5],\n",
       "  [45.5, 54],\n",
       "  [46, 54.5],\n",
       "  [47, 54.5],\n",
       "  [48, 54.5],\n",
       "  [54, 49.5],\n",
       "  [54.5, 49],\n",
       "  [55, 48.5],\n",
       "  [55.5, 48],\n",
       "  [55, 47.5],\n",
       "  [54.5, 47],\n",
       "  [54, 46.5],\n",
       "  [53, 46.5],\n",
       "  [46, 51.5],\n",
       "  [45.5, 52],\n",
       "  [45, 52.5]],\n",
       " 'ConvexImage': [[0, 0, 0, 0, 0, 0, 0, 0, 1, 1, 0],\n",
       "  [0, 0, 0, 0, 0, 0, 1, 1, 1, 1, 1],\n",
       "  [0, 0, 0, 0, 0, 1, 1, 1, 1, 1, 0],\n",
       "  [0, 0, 0, 0, 1, 1, 1, 1, 1, 0, 0],\n",
       "  [0, 0, 1, 1, 1, 1, 1, 1, 0, 0, 0],\n",
       "  [0, 1, 1, 1, 1, 1, 1, 0, 0, 0, 0],\n",
       "  [1, 1, 1, 1, 1, 0, 0, 0, 0, 0, 0],\n",
       "  [0, 1, 1, 1, 0, 0, 0, 0, 0, 0, 0]],\n",
       " 'ConvexArea': 37,\n",
       " 'Image': [[0, 0, 0, 0, 0, 0, 0, 0, 1, 1, 0],\n",
       "  [0, 0, 0, 0, 0, 0, 0, 1, 1, 1, 1],\n",
       "  [0, 0, 0, 0, 0, 0, 1, 1, 1, 1, 0],\n",
       "  [0, 0, 0, 0, 0, 1, 1, 0, 0, 0, 0],\n",
       "  [0, 0, 0, 0, 1, 1, 0, 0, 0, 0, 0],\n",
       "  [0, 1, 0, 1, 1, 0, 0, 0, 0, 0, 0],\n",
       "  [1, 1, 1, 1, 0, 0, 0, 0, 0, 0, 0],\n",
       "  [0, 1, 1, 1, 0, 0, 0, 0, 0, 0, 0]],\n",
       " 'FilledImage': [[0, 0, 0, 0, 0, 0, 0, 0, 1, 1, 0],\n",
       "  [0, 0, 0, 0, 0, 0, 0, 1, 1, 1, 1],\n",
       "  [0, 0, 0, 0, 0, 0, 1, 1, 1, 1, 0],\n",
       "  [0, 0, 0, 0, 0, 1, 1, 0, 0, 0, 0],\n",
       "  [0, 0, 0, 0, 1, 1, 0, 0, 0, 0, 0],\n",
       "  [0, 1, 0, 1, 1, 0, 0, 0, 0, 0, 0],\n",
       "  [1, 1, 1, 1, 0, 0, 0, 0, 0, 0, 0],\n",
       "  [0, 1, 1, 1, 0, 0, 0, 0, 0, 0, 0]],\n",
       " 'FilledArea': 24,\n",
       " 'EulerNumber': 1,\n",
       " 'Extrema': [[52.5, 46.5],\n",
       "  [54.5, 46.5],\n",
       "  [55.5, 47.5],\n",
       "  [55.5, 48.5],\n",
       "  [48.5, 54.5],\n",
       "  [45.5, 54.5],\n",
       "  [44.5, 53.5],\n",
       "  [44.5, 52.5]],\n",
       " 'EquivDiameter': 5.527906392,\n",
       " 'Solidity': 0.6486486486,\n",
       " 'Extent': 0.2727272727,\n",
       " 'PixelIdxList': [[4497],\n",
       "  [4597],\n",
       "  [4598],\n",
       "  [4599],\n",
       "  [4699],\n",
       "  [4700],\n",
       "  [4799],\n",
       "  [4800],\n",
       "  [4801],\n",
       "  [4899],\n",
       "  [4900],\n",
       "  [4999],\n",
       "  [5000],\n",
       "  [5099],\n",
       "  [5100],\n",
       "  [5199],\n",
       "  [5200],\n",
       "  [5299],\n",
       "  [5300],\n",
       "  [5301],\n",
       "  [5400],\n",
       "  [5401],\n",
       "  [5402],\n",
       "  [5502]],\n",
       " 'PixelList': [[45, 53],\n",
       "  [46, 52],\n",
       "  [46, 53],\n",
       "  [46, 54],\n",
       "  [47, 53],\n",
       "  [47, 54],\n",
       "  [48, 52],\n",
       "  [48, 53],\n",
       "  [48, 54],\n",
       "  [49, 51],\n",
       "  [49, 52],\n",
       "  [50, 50],\n",
       "  [50, 51],\n",
       "  [51, 49],\n",
       "  [51, 50],\n",
       "  [52, 48],\n",
       "  [52, 49],\n",
       "  [53, 47],\n",
       "  [53, 48],\n",
       "  [53, 49],\n",
       "  [54, 47],\n",
       "  [54, 48],\n",
       "  [54, 49],\n",
       "  [55, 48]],\n",
       " 'Perimeter': 26.333,\n",
       " 'PerimeterOld': 27.21320344,\n",
       " 'OrientationRadon': 131.33}"
      ]
     },
     "execution_count": 67,
     "metadata": {},
     "output_type": "execute_result"
    }
   ],
   "source": [
    "s"
   ]
  },
  {
   "cell_type": "code",
   "execution_count": 63,
   "metadata": {},
   "outputs": [],
   "source": [
    "len(record['patchfu'][0])\n",
    "p = np.array(record['patchfu'])\n",
    "g = np.array(record['patchgt'])\n"
   ]
  },
  {
   "cell_type": "code",
   "execution_count": 64,
   "metadata": {},
   "outputs": [
    {
     "data": {
      "text/plain": [
       "<matplotlib.image.AxesImage at 0x7fcd8c4a9978>"
      ]
     },
     "execution_count": 64,
     "metadata": {},
     "output_type": "execute_result"
    },
    {
     "data": {
      "image/png": "[encoded data removed]",
      "text/plain": [
       "<Figure size 432x288 with 1 Axes>"
      ]
     },
     "metadata": {
      "needs_background": "light"
     },
     "output_type": "display_data"
    }
   ],
   "source": [
    "plt.imshow(p)"
   ]
  },
  {
   "cell_type": "code",
   "execution_count": 65,
   "metadata": {},
   "outputs": [
    {
     "data": {
      "text/plain": [
       "<matplotlib.image.AxesImage at 0x7fcd8c415358>"
      ]
     },
     "execution_count": 65,
     "metadata": {},
     "output_type": "execute_result"
    },
    {
     "data": {
      "image/png": "[encoded data removed]",
      "text/plain": [
       "<Figure size 432x288 with 1 Axes>"
      ]
     },
     "metadata": {
      "needs_background": "light"
     },
     "output_type": "display_data"
    }
   ],
   "source": [
    "plt.imshow(g)"
   ]
  }
 ],
 "metadata": {
  "kernelspec": {
   "display_name": "Python [conda env:sar]",
   "language": "python",
   "name": "conda-env-sar-py"
  },
  "language_info": {
   "codemirror_mode": {
    "name": "ipython",
    "version": 3
   },
   "file_extension": ".py",
   "mimetype": "text/x-python",
   "name": "python",
   "nbconvert_exporter": "python",
   "pygments_lexer": "ipython3",
   "version": "3.6.8"
  }
 },
 "nbformat": 4,
 "nbformat_minor": 2
}
