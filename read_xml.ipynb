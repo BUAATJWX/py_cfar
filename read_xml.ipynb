{
 "cells": [
  {
   "cell_type": "code",
   "execution_count": 6,
   "metadata": {},
   "outputs": [],
   "source": [
    "from xml.dom.minidom import parse, parseString\n"
   ]
  },
  {
   "cell_type": "code",
   "execution_count": 7,
   "metadata": {},
   "outputs": [],
   "source": [
    "import glob\n"
   ]
  },
  {
   "cell_type": "code",
   "execution_count": 8,
   "metadata": {},
   "outputs": [],
   "source": [
    "paths = glob.glob(\"/media/nasir/Drive1/code/SAR/AutomatedSARShipDetection/python_cfar/SAR-Ship-Dataset/Annotations_new/*.xml\");\n"
   ]
  },
  {
   "cell_type": "code",
   "execution_count": 9,
   "metadata": {},
   "outputs": [],
   "source": [
    "import sys"
   ]
  },
  {
   "cell_type": "code",
   "execution_count": 5,
   "metadata": {},
   "outputs": [
    {
     "name": "stdout",
     "output_type": "stream",
     "text": [
      " 43818 / 43819 , /media/nasir/Drive1/code/SAR/AutomatedSARShipDetection/python_cfar/SAR-Ship-Dataset/Annotations_new/Gao_ship_vh_020170405960101305.xmll"
     ]
    }
   ],
   "source": [
    "for index in range(0, len(paths)):\n",
    "# for index in range(0, 10):\n",
    "    path = paths[index]\n",
    "    gt_path = path.replace('Annotations_new', 'ground-truth').replace('.xml', '.txt')\n",
    "    with open(gt_path, 'w') as f1:\n",
    "        dom1 = parse(path)  # parse an XML file by name\n",
    "\n",
    "        itemlist = dom1.getElementsByTagName('object')\n",
    "        bboxes = []\n",
    "        for item in itemlist:\n",
    "            bbox_node = item.getElementsByTagName('bndbox')\n",
    "            xmin = bbox_node[0].getElementsByTagName('xmin')[0].firstChild.nodeValue\n",
    "            ymin = bbox_node[0].getElementsByTagName('ymin')[0].firstChild.nodeValue\n",
    "            xmax = bbox_node[0].getElementsByTagName('xmax')[0].firstChild.nodeValue\n",
    "            ymax = bbox_node[0].getElementsByTagName('ymax')[0].firstChild.nodeValue\n",
    "            f1.write(f\"Ship {int(xmin)} {int(ymin)} {int(xmax) - int(xmin)} {int(ymax) - int(ymin)}\\n\")\n",
    "            bboxes.append([int(xmin), int(ymin), int(xmax) - int(xmin), int(ymax) - int(ymin)])\n",
    "        \n",
    "    sys.stdout.write(f\"\\r {index} / {len(paths)} , {path}\")\n",
    "    sys.stdout.flush() "
   ]
  },
  {
   "cell_type": "code",
   "execution_count": 14,
   "metadata": {},
   "outputs": [
    {
     "name": "stdout",
     "output_type": "stream",
     "text": [
      " 43818 / 43819 , /media/nasir/Drive1/code/SAR/AutomatedSARShipDetection/python_cfar/SAR-Ship-Dataset/Annotations_new/Gao_ship_vh_020170405960101305.xmll"
     ]
    }
   ],
   "source": [
    "bboxes = []\n",
    "area = []\n",
    "box_id = 0\n",
    "box_file_map = {}\n",
    "for index in range(0, len(paths)):\n",
    "# for index in range(0, 10):\n",
    "    path = paths[index]\n",
    "#     gt_path = path.replace('Annotations_new', 'ground-truth').replace('.xml', '.txt')\n",
    "#     with open(gt_path, 'w') as f1:\n",
    "    dom1 = parse(path)  # parse an XML file by name\n",
    "\n",
    "    itemlist = dom1.getElementsByTagName('object')\n",
    "    for item in itemlist:\n",
    "        bbox_node = item.getElementsByTagName('bndbox')\n",
    "        xmin = bbox_node[0].getElementsByTagName('xmin')[0].firstChild.nodeValue\n",
    "        ymin = bbox_node[0].getElementsByTagName('ymin')[0].firstChild.nodeValue\n",
    "        xmax = bbox_node[0].getElementsByTagName('xmax')[0].firstChild.nodeValue\n",
    "        ymax = bbox_node[0].getElementsByTagName('ymax')[0].firstChild.nodeValue\n",
    "#         f1.write(f\"Ship {int(xmin)} {int(ymin)} {int(xmax) - int(xmin)} {int(ymax) - int(ymin)}\\n\")\n",
    "        box = [int(xmin), int(ymin), (int(xmax) - int(xmin)), (int(ymax) - int(ymin))]\n",
    "        bboxes.append(box)\n",
    "        area.append(box[2] * box[3])\n",
    "        box_file_map[box_id] = path\n",
    "        box_id+=1\n",
    "        \n",
    "    sys.stdout.write(f\"\\r {index} / {len(paths)} , {path}\")\n",
    "    sys.stdout.flush()"
   ]
  },
  {
   "cell_type": "code",
   "execution_count": 15,
   "metadata": {},
   "outputs": [
    {
     "data": {
      "text/plain": [
       "24"
      ]
     },
     "execution_count": 15,
     "metadata": {},
     "output_type": "execute_result"
    }
   ],
   "source": [
    "min(area)"
   ]
  },
  {
   "cell_type": "code",
   "execution_count": 16,
   "metadata": {},
   "outputs": [
    {
     "data": {
      "text/plain": [
       "2828"
      ]
     },
     "execution_count": 16,
     "metadata": {},
     "output_type": "execute_result"
    }
   ],
   "source": [
    "area.index(min(area))"
   ]
  },
  {
   "cell_type": "code",
   "execution_count": 19,
   "metadata": {},
   "outputs": [
    {
     "data": {
      "text/plain": [
       "'/media/nasir/Drive1/code/SAR/AutomatedSARShipDetection/python_cfar/SAR-Ship-Dataset/Annotations_new/newship0901204.xml'"
      ]
     },
     "execution_count": 19,
     "metadata": {},
     "output_type": "execute_result"
    }
   ],
   "source": [
    "box_file_map[2828]"
   ]
  },
  {
   "cell_type": "code",
   "execution_count": null,
   "metadata": {},
   "outputs": [],
   "source": []
  }
 ],
 "metadata": {
  "kernelspec": {
   "display_name": "Python [conda env:sar]",
   "language": "python",
   "name": "conda-env-sar-py"
  },
  "language_info": {
   "codemirror_mode": {
    "name": "ipython",
    "version": 3
   },
   "file_extension": ".py",
   "mimetype": "text/x-python",
   "name": "python",
   "nbconvert_exporter": "python",
   "pygments_lexer": "ipython3",
   "version": "3.6.8"
  }
 },
 "nbformat": 4,
 "nbformat_minor": 2
}
