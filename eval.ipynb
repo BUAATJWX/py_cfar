{
 "cells": [
  {
   "cell_type": "code",
   "execution_count": 1,
   "metadata": {},
   "outputs": [],
   "source": [
    "import glob\n",
    "import sys\n",
    "import cv2\n",
    "import matplotlib.pyplot as plt"
   ]
  },
  {
   "cell_type": "code",
   "execution_count": 2,
   "metadata": {},
   "outputs": [],
   "source": [
    "def union_area(a,b):\n",
    "\n",
    "    x = min(a[0], b[0])\n",
    "    y = min(a[1], b[1])\n",
    "    w = max(a[0]+a[2], b[0]+b[2]) - x\n",
    "    h = max(a[1]+a[3], b[1]+b[3]) - y\n",
    "    return w*h\n",
    "\n",
    "def intersection_area(a,b):\n",
    "    x = max(a[0], b[0])\n",
    "    y = max(a[1], b[1])\n",
    "    \n",
    "    w = min(a[0]+a[2], b[0]+b[2]) - x\n",
    "    h = min(a[1]+a[3], b[1]+b[3]) - y\n",
    "    if w < 0 or h < 0:\n",
    "        return 0\n",
    "    else:\n",
    "        return w * h\n",
    "\n",
    "def str2int(a):\n",
    "    return [int(x) for x in a]\n",
    "\n",
    "def extract_boxes(fname):\n",
    "    with open(fname) as f:\n",
    "        content = f.readlines()\n",
    "        f.close()\n",
    "        content = [x.strip() for x in content]\n",
    "        content = [str2int(x.split(' ')[-4:]) for x in content]\n",
    "        return content"
   ]
  },
  {
   "cell_type": "code",
   "execution_count": 3,
   "metadata": {},
   "outputs": [
    {
     "data": {
      "text/plain": [
       "43819"
      ]
     },
     "execution_count": 3,
     "metadata": {},
     "output_type": "execute_result"
    }
   ],
   "source": [
    "paths = glob.glob(\"/media/nasir/Drive1/code/SAR/AutomatedSARShipDetection/python_cfar/SAR-Ship-Dataset/detection-results/*.txt\")\n",
    "len(paths)\n"
   ]
  },
  {
   "cell_type": "code",
   "execution_count": 10,
   "metadata": {},
   "outputs": [],
   "source": [
    "def get_precision_recall(threshold):\n",
    "    files_stats = {}\n",
    "\n",
    "\n",
    "    falseNegative = 0\n",
    "    truePositive = 0\n",
    "    falsePositive = 0\n",
    "    trueNegative = 0\n",
    "\n",
    "    for index, path in enumerate(paths):\n",
    "        pred_bboxes = extract_boxes(path)\n",
    "        gt_bboxes = extract_boxes(path.replace('detection-results', 'ground-truth'))\n",
    "        fp = 0; tp = 0; fn = 0\n",
    "        box_index_of_tp = []\n",
    "        for index_g, gt_box in enumerate(gt_bboxes):\n",
    "            ious = []\n",
    "            for index_p, pred_box in enumerate(pred_bboxes):\n",
    "                iou = intersection_area(gt_box, pred_box) / union_area(gt_box, pred_box)\n",
    "                if iou >threshold:\n",
    "                    box_index_of_tp.append(index_p)\n",
    "                    ious.append(iou)\n",
    "\n",
    "            if len(ious) == 0:\n",
    "                fn+=1\n",
    "            elif len(ious) > 0:\n",
    "                tp+=1\n",
    "\n",
    "        diff = len(pred_bboxes) - (len(list(set(box_index_of_tp))))\n",
    "        if diff > 0:\n",
    "            fp+=diff\n",
    "\n",
    "        falseNegative+=fn\n",
    "        truePositive+=tp\n",
    "        falsePositive+=fp\n",
    "\n",
    "        files_stats[path.split('/')[-1].split('.')[0]] = {\n",
    "            \"falseNegative\": fn,\n",
    "            \"truePositive\": tp,\n",
    "            \"falsePositive\": fp\n",
    "        }\n",
    "\n",
    "        sys.stdout.write(f\"\\r {index + 1} / {len(paths)}\")\n",
    "        sys.stdout.flush()\n",
    "    print(f\"\\n\\nfalsePositives: {falsePositive} , truePositives: {truePositive} , falseNegatives: {falseNegative}\")\n",
    "    recall = truePositive / (truePositive + falseNegative)\n",
    "    precision = truePositive / (truePositive + falsePositive)\n",
    "    return precision, recall\n",
    "    "
   ]
  },
  {
   "cell_type": "code",
   "execution_count": 9,
   "metadata": {},
   "outputs": [
    {
     "name": "stdout",
     "output_type": "stream",
     "text": [
      " 43819 / 43819\n",
      "falsePositives: 53343 , truePositives: 8605 , falseNegatives: 50930\n",
      "\n",
      "threshold: 0.7 recall: 14.45% precision: 13.89% \n",
      "\n",
      " 43819 / 43819\n",
      "falsePositives: 46160 , truePositives: 15796 , falseNegatives: 43739\n",
      "\n",
      "threshold: 0.6 recall: 26.53% precision: 25.5% \n",
      "\n",
      " 40309 / 43819\n",
      "falsePositives: 39661 , truePositives: 22315 , falseNegatives: 37220\n",
      "\n",
      "threshold: 0.5 recall: 37.48% precision: 36.01% \n",
      "\n",
      " 43819 / 43819\n",
      "falsePositives: 31117 , truePositives: 30897 , falseNegatives: 28638\n",
      "\n",
      "threshold: 0.3 recall: 51.9% precision: 49.82% \n",
      "\n",
      " 43728 / 43819"
     ]
    }
   ],
   "source": [
    "thresholds = [0.7, 0.6, 0.5, 0.4, 0.3, 0.2, 0.1]\n",
    "precisions = []\n",
    "recalls = []\n",
    "\n",
    "for threshold in thresholds:\n",
    "    precision, recall = get_precision_recall(threshold)\n",
    "    precisions.append(precision)\n",
    "    recalls.append(recall)\n",
    "    print(f\"\\nthreshold: {threshold} recall: {round(recall * 100, 2)}% precision: {round(precision*100, 2)}% \\n\")"
   ]
  },
  {
   "cell_type": "code",
   "execution_count": null,
   "metadata": {},
   "outputs": [],
   "source": []
  }
 ],
 "metadata": {
  "kernelspec": {
   "display_name": "Python [conda env:sar]",
   "language": "python",
   "name": "conda-env-sar-py"
  },
  "language_info": {
   "codemirror_mode": {
    "name": "ipython",
    "version": 3
   },
   "file_extension": ".py",
   "mimetype": "text/x-python",
   "name": "python",
   "nbconvert_exporter": "python",
   "pygments_lexer": "ipython3",
   "version": "3.6.8"
  }
 },
 "nbformat": 4,
 "nbformat_minor": 2
}
